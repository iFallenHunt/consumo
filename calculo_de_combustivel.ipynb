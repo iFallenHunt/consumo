{
  "nbformat": 4,
  "nbformat_minor": 0,
  "metadata": {
    "colab": {
      "name": "calculo de combustivel",
      "provenance": [],
      "collapsed_sections": [],
      "authorship_tag": "ABX9TyON7gbvgW8j4FCL5qMVq8V8",
      "include_colab_link": true
    },
    "kernelspec": {
      "name": "python3",
      "display_name": "Python 3"
    },
    "language_info": {
      "name": "python"
    }
  },
  "cells": [
    {
      "cell_type": "markdown",
      "metadata": {
        "id": "view-in-github",
        "colab_type": "text"
      },
      "source": [
        "<a href=\"https://colab.research.google.com/github/iFallenHunt/consumo/blob/main/calculo_de_combustivel.ipynb\" target=\"_parent\"><img src=\"https://colab.research.google.com/assets/colab-badge.svg\" alt=\"Open In Colab\"/></a>"
      ]
    },
    {
      "cell_type": "code",
      "execution_count": null,
      "metadata": {
        "id": "X35gvQQr5BFq"
      },
      "outputs": [],
      "source": [
        "tempo = float(input('Digite o tempo gasto na viagem: '))\n",
        "velocidade = float(input('Digite a velocidade media: '))\n",
        "gasto = float(input('Digite o consumo do seu veiculo em KM/L: '))\n",
        "\n",
        "distancia = tempo * velocidade\n",
        "litros_usados = distancia / gasto\n",
        "\n",
        "print('Velocidade média: ', velocidade, 'KM/h')\n",
        "print('Tempo gasto na viagem: ', tempo, 'Horas')\n",
        "print('Distancia percorida: ', distancia, 'KM')\n",
        "print('Quantidade de litros: ', round(litros_usados,2), 'Litros')"
      ]
    }
  ]
}